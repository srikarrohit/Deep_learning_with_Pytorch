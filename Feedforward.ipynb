{
 "cells": [
  {
   "cell_type": "code",
   "execution_count": 10,
   "metadata": {},
   "outputs": [],
   "source": [
    "#MNIST\n",
    "#Dataloader, Transformation\n",
    "#Multilayer neural net, activation function\n",
    "#Loss and optimizer\n",
    "#Training Loop (batch training)\n",
    "#Model evaluation\n",
    "#GPU support\n",
    "import torch\n",
    "import torch.nn as nn\n",
    "import torchvision\n",
    "import torchvision.transforms as transforms\n",
    "import matplotlib.pyplot as plt\n",
    "#device = torch.device('cuda' if torch.cuda.is_available else 'cpu')"
   ]
  },
  {
   "cell_type": "code",
   "execution_count": 11,
   "metadata": {},
   "outputs": [
    {
     "name": "stdout",
     "output_type": "stream",
     "text": [
      "torch.Size([100, 1, 28, 28]) torch.Size([100])\n"
     ]
    }
   ],
   "source": [
    "input_size = 784\n",
    "hidden_size = 100\n",
    "num_classes = 10\n",
    "num_epochs = 2\n",
    "batch_size = 100\n",
    "learning_rate = 0.001\n",
    "\n",
    "train_dataset = torchvision.datasets.MNIST(root='./data',train=True,transform = transforms.ToTensor(),\n",
    "                                           download=True)\n",
    "test_dataset = torchvision.datasets.MNIST(root='./data',train=False,transform = transforms.ToTensor())\n",
    "train_loader = torch.utils.data.DataLoader(dataset=train_dataset,batch_size=batch_size,shuffle = True)\n",
    "test_loader = torch.utils.data.DataLoader(dataset=train_dataset,batch_size=batch_size,shuffle = False)\n",
    "examples = iter(train_loader)\n",
    "samples,labels = examples.next()\n",
    "print(samples.shape,labels.shape)#100 batch size, 1 channel, 28x28 image array and labels tensor of size 100"
   ]
  },
  {
   "cell_type": "code",
   "execution_count": 12,
   "metadata": {},
   "outputs": [
    {
     "data": {
      "image/png": "[encoded data removed]",
      "text/plain": [
       "<Figure size 432x288 with 6 Axes>"
      ]
     },
     "metadata": {
      "needs_background": "light"
     },
     "output_type": "display_data"
    }
   ],
   "source": [
    "for i in range(6):\n",
    "    plt.subplot(2,3,i+1)\n",
    "    plt.imshow(samples[i][0],cmap='gray')\n",
    "#plt.show()"
   ]
  },
  {
   "cell_type": "code",
   "execution_count": 20,
   "metadata": {},
   "outputs": [
    {
     "name": "stdout",
     "output_type": "stream",
     "text": [
      "epoch1/2,step 100/600, loss=0.4959\n",
      "epoch1/2,step 200/600, loss=0.3460\n",
      "epoch1/2,step 300/600, loss=0.2616\n",
      "epoch1/2,step 400/600, loss=0.3901\n",
      "epoch1/2,step 500/600, loss=0.1871\n",
      "epoch1/2,step 600/600, loss=0.1849\n",
      "epoch2/2,step 100/600, loss=0.2641\n",
      "epoch2/2,step 200/600, loss=0.1643\n",
      "epoch2/2,step 300/600, loss=0.3081\n",
      "epoch2/2,step 400/600, loss=0.3731\n",
      "epoch2/2,step 500/600, loss=0.1079\n",
      "epoch2/2,step 600/600, loss=0.2592\n",
      "accuracy = 95.59\n"
     ]
    }
   ],
   "source": [
    "class NeuralNet(nn.Module):\n",
    "    def __init__(self,input_size,hidden_size,num_classes):\n",
    "        super(NeuralNet,self).__init__()\n",
    "        self.l1 = nn.Linear(input_size,hidden_size)\n",
    "        self.relu = nn.ReLU()\n",
    "        self.l2 = nn.Linear(hidden_size,num_classes)\n",
    "        \n",
    "    def forward(self,x):\n",
    "        out = self.l1(x)\n",
    "        out = self.relu(out)\n",
    "        out = self.l2(out)\n",
    "        return out\n",
    "    \n",
    "model = NeuralNet(input_size,hidden_size,num_classes)\n",
    "criterion = nn.CrossEntropyLoss()\n",
    "optimizer = torch.optim.Adam(model.parameters(),lr=learning_rate)\n",
    "\n",
    "n_total_steps = len(train_loader)\n",
    "\n",
    "for epoch in range(num_epochs):\n",
    "    for i,(images,labels) in enumerate(train_loader):\n",
    "        #100, 1, 28, 28\n",
    "        #100, 784\n",
    "        images = images.reshape(-1,28*28)\n",
    "        labels = labels\n",
    "        \n",
    "        #forward pass\n",
    "        outputs = model(images)\n",
    "        loss = criterion(outputs,labels)\n",
    "        \n",
    "        #backwards\n",
    "        optimizer.zero_grad()\n",
    "        loss.backward()\n",
    "        optimizer.step()\n",
    "        \n",
    "        if(i+1)%100==0:\n",
    "            print(f'epoch{epoch+1}/{num_epochs},step {i+1}/{n_total_steps}, loss={loss.item():.4f}')\n",
    "            \n",
    "with torch.no_grad():\n",
    "    n_correct = 0\n",
    "    n_samples = 0\n",
    "    for images, labels in test_loader:\n",
    "        images = images.reshape(-1,28*28)\n",
    "        labels = labels\n",
    "        outputs = model(images)\n",
    "        \n",
    "        #value, index\n",
    "        _,predictions = torch.max(outputs,1)\n",
    "        n_samples += labels.shape[0]\n",
    "        n_correct += (predictions == labels).sum().item()\n",
    "    \n",
    "    acc = 100.0*n_correct/n_samples\n",
    "    print(f'accuracy = {acc}')"
   ]
  },
  {
   "cell_type": "code",
   "execution_count": null,
   "metadata": {},
   "outputs": [],
   "source": []
  }
 ],
 "metadata": {
  "kernelspec": {
   "display_name": "Python 3",
   "language": "python",
   "name": "python3"
  },
  "language_info": {
   "codemirror_mode": {
    "name": "ipython",
    "version": 3
   },
   "file_extension": ".py",
   "mimetype": "text/x-python",
   "name": "python",
   "nbconvert_exporter": "python",
   "pygments_lexer": "ipython3",
   "version": "3.7.6"
  }
 },
 "nbformat": 4,
 "nbformat_minor": 4
}
