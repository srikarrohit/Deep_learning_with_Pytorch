{
 "cells": [
  {
   "cell_type": "code",
   "execution_count": 1,
   "metadata": {},
   "outputs": [],
   "source": [
    "#Activation functions apply a non-linear transformation and decide whether a neuron should be activated or not\n",
    "#Linear transformations are just stacked regressions and this linear model is not suited for complex tasks\n",
    "#non-linear transformations can learn better and perform more complex tasks "
   ]
  },
  {
   "cell_type": "code",
   "execution_count": 2,
   "metadata": {},
   "outputs": [],
   "source": [
    "#Popular activation functions\n",
    "#Step function\n",
    "#Sigmoid function - 1/(1+exp(-x)), ranges from [0,1)\n",
    "#TanH - ((2/(1+exp(-2x)))-1), ranges from (-1,1)\n",
    "#ReLU - max(0,x), very good choice for activation functions\n",
    "#Leaky ReLU - negative numbers are multiplied by very small value\n",
    "#Softmax - Good in last layer of multi class classification"
   ]
  },
  {
   "cell_type": "code",
   "execution_count": null,
   "metadata": {},
   "outputs": [],
   "source": [
    "import torch\n",
    "import torch.nn as nn\n",
    "import torch.nn.functional as F\n",
    "\n",
    "class NeuralNet(nn.module): #create nn modules\n",
    "    def __init__(self,input_size,hidden_size):\n",
    "        super(NeuralNet,self).__init__()\n",
    "        self.linear1 = nn.Linear(input_size,hidden_size)\n",
    "        self.relu = nn.ReLU()\n",
    "        #nn.Sigmoid\n",
    "        #nn.Softmax\n",
    "        #nn.TanH\n",
    "        #nn.LeakyReLU\n",
    "        self.linear2 = nn.Linear(hidden_size,1)\n",
    "        self.sigmoid = nn.Sigmoid()\n",
    "    \n",
    "    def forward(self,x):\n",
    "        out = self.linear1(x)\n",
    "        out = self.relu(out)\n",
    "        out = self.linear2(out)\n",
    "        out = self.sigmoid(out)\n",
    "        return out\n",
    "    \n",
    "class NeuralNet(nn.module):\n",
    "    def __init__(self,input_size,hidden_size):\n",
    "        super(NeuralNet,self).__init__()\n",
    "        self.linear1 = nn.Linear(input_size,hidden_size)\n",
    "        self.linear2 = nn.Linear(hidden_size,1)\n",
    "        \n",
    "    def forward(self,x): \n",
    "        #F.relu() same as torch.relu but\n",
    "        #F.leaky_relu() is only available in this API\n",
    "        out = torch.relu(self.linear1(x))\n",
    "        out = torch.sigmoid(self.linear2(out))\n",
    "        #torch.softmax\n",
    "        #torch.tanh\n",
    "        return out "
   ]
  }
 ],
 "metadata": {
  "kernelspec": {
   "display_name": "Python 3",
   "language": "python",
   "name": "python3"
  },
  "language_info": {
   "codemirror_mode": {
    "name": "ipython",
    "version": 3
   },
   "file_extension": ".py",
   "mimetype": "text/x-python",
   "name": "python",
   "nbconvert_exporter": "python",
   "pygments_lexer": "ipython3",
   "version": "3.7.6"
  }
 },
 "nbformat": 4,
 "nbformat_minor": 4
}
