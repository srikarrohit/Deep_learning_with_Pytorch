{
 "cells": [
  {
   "cell_type": "code",
   "execution_count": 13,
   "metadata": {},
   "outputs": [],
   "source": [
    "import numpy as np\n",
    "# f = w*x\n",
    "# f = 2*x"
   ]
  },
  {
   "cell_type": "code",
   "execution_count": 37,
   "metadata": {},
   "outputs": [],
   "source": [
    "#training samples\n",
    "X = np.array([1,2,3,4],dtype = np.float32)"
   ]
  },
  {
   "cell_type": "code",
   "execution_count": 38,
   "metadata": {},
   "outputs": [],
   "source": [
    "Y = np.array([2,4,6,8],dtype = np.float32) #since output is 2 times X"
   ]
  },
  {
   "cell_type": "code",
   "execution_count": 39,
   "metadata": {},
   "outputs": [],
   "source": [
    "w = 0.0"
   ]
  },
  {
   "cell_type": "code",
   "execution_count": 40,
   "metadata": {},
   "outputs": [],
   "source": [
    "# model prediction\n",
    "def forward(x):\n",
    "    return w*x"
   ]
  },
  {
   "cell_type": "code",
   "execution_count": 18,
   "metadata": {},
   "outputs": [],
   "source": [
    "# loss = MSE\n",
    "def loss(y,y_predicted):\n",
    "    return ((y_predicted-y)**2).mean()"
   ]
  },
  {
   "cell_type": "code",
   "execution_count": 19,
   "metadata": {},
   "outputs": [],
   "source": [
    "# gradient\n",
    "# MSE = 1/N * (w*x-y)**2\n",
    "# dJ/dw = 1/N 2x (w*x-y)\n",
    "def gradient(x,y,y_predicted):\n",
    "    return np.dot(2*x,y_predicted-y).mean()"
   ]
  },
  {
   "cell_type": "code",
   "execution_count": 20,
   "metadata": {},
   "outputs": [
    {
     "name": "stdout",
     "output_type": "stream",
     "text": [
      "Prediction before training: f(5)= 0.000\n"
     ]
    }
   ],
   "source": [
    "print(f'Prediction before training: f(5)= {forward(5):.3f}')"
   ]
  },
  {
   "cell_type": "code",
   "execution_count": 42,
   "metadata": {},
   "outputs": [],
   "source": [
    "#Training\n",
    "learning_rate =0.01\n",
    "n_iters = 10"
   ]
  },
  {
   "cell_type": "code",
   "execution_count": 26,
   "metadata": {},
   "outputs": [
    {
     "name": "stdout",
     "output_type": "stream",
     "text": [
      "epoch 1: w=1.200, loss = 30.00000000\n",
      "epoch 2: w=1.680, loss = 4.79999924\n",
      "epoch 3: w=1.872, loss = 0.76800019\n",
      "epoch 4: w=1.949, loss = 0.12288000\n",
      "epoch 5: w=1.980, loss = 0.01966083\n",
      "epoch 6: w=1.992, loss = 0.00314570\n",
      "epoch 7: w=1.997, loss = 0.00050332\n",
      "epoch 8: w=1.999, loss = 0.00008053\n",
      "epoch 9: w=1.999, loss = 0.00001288\n",
      "epoch 10: w=2.000, loss = 0.00000206\n",
      "Prediction after training: f(5)= 9.999\n"
     ]
    }
   ],
   "source": [
    "for epoch in range(n_iters):\n",
    "    #prediction = forward pass\n",
    "    y_pred = forward(X)\n",
    "    \n",
    "    #loss\n",
    "    l = loss(Y,y_pred)\n",
    "    \n",
    "    #gradients\n",
    "    dw = gradient(X,Y,y_pred)\n",
    "    \n",
    "    #update weights\n",
    "    w-=learning_rate * dw\n",
    "    \n",
    "    if epoch%1==0:\n",
    "        print(f'epoch {epoch+1}: w={w:.3f}, loss = {l:.8f}')\n",
    "print(f'Prediction after training: f(5)= {forward(5):.3f}')"
   ]
  },
  {
   "cell_type": "code",
   "execution_count": 27,
   "metadata": {},
   "outputs": [],
   "source": [
    "import torch\n",
    "X = torch.tensor([1,2,3,4],dtype = torch.float32)\n",
    "Y = torch.tensor([2,4,6,8],dtype = torch.float32)\n",
    "w = torch.tensor(0.0,dtype = torch.float32,requires_grad=True)"
   ]
  },
  {
   "cell_type": "code",
   "execution_count": 31,
   "metadata": {},
   "outputs": [
    {
     "name": "stdout",
     "output_type": "stream",
     "text": [
      "epoch 1: w=1.934, loss = 0.04492747\n",
      "epoch 11: w=1.987, loss = 0.00174137\n",
      "epoch 21: w=1.997, loss = 0.00006750\n",
      "epoch 31: w=1.999, loss = 0.00000262\n",
      "epoch 41: w=2.000, loss = 0.00000010\n",
      "epoch 51: w=2.000, loss = 0.00000000\n",
      "epoch 61: w=2.000, loss = 0.00000000\n",
      "epoch 71: w=2.000, loss = 0.00000000\n",
      "epoch 81: w=2.000, loss = 0.00000000\n",
      "epoch 91: w=2.000, loss = 0.00000000\n",
      "Prediction after training: f(5)= 10.000\n"
     ]
    }
   ],
   "source": [
    "#using torch package to compute backward pass gradients\n",
    "n_iters = 100\n",
    "for epoch in range(n_iters):\n",
    "    #prediction = forward pass\n",
    "    y_pred = forward(X)\n",
    "    \n",
    "    #loss\n",
    "    l = loss(Y,y_pred)\n",
    "    \n",
    "    #gradients = backward pass\n",
    "    l.backward()#dl/dw\n",
    "    \n",
    "    #update weights\n",
    "    with torch.no_grad():\n",
    "        w-=learning_rate * w.grad\n",
    "    \n",
    "    #zero gradients\n",
    "    w.grad.zero_()\n",
    "    \n",
    "    if epoch%10==0:\n",
    "        print(f'epoch {epoch+1}: w={w:.3f}, loss = {l:.8f}')\n",
    "print(f'Prediction after training: f(5)= {forward(5):.3f}')"
   ]
  },
  {
   "cell_type": "code",
   "execution_count": 32,
   "metadata": {},
   "outputs": [],
   "source": [
    "#General Training model steps\n",
    "#1. Design model(input size, output size, forward pass)\n",
    "#2. Construct loss and optimizer\n",
    "#3. Training Loop\n",
    "# - Forward pass: Compute prediction\n",
    "# - Backward pass: gradients\n",
    "# - Update weights"
   ]
  },
  {
   "cell_type": "code",
   "execution_count": 48,
   "metadata": {},
   "outputs": [
    {
     "name": "stdout",
     "output_type": "stream",
     "text": [
      "epoch 1: w=0.300, loss = 30.00000000\n",
      "epoch 11: w=1.665, loss = 1.16278565\n",
      "epoch 21: w=1.934, loss = 0.04506890\n",
      "epoch 31: w=1.987, loss = 0.00174685\n",
      "epoch 41: w=1.997, loss = 0.00006770\n",
      "epoch 51: w=1.999, loss = 0.00000262\n",
      "epoch 61: w=2.000, loss = 0.00000010\n",
      "epoch 71: w=2.000, loss = 0.00000000\n",
      "epoch 81: w=2.000, loss = 0.00000000\n",
      "epoch 91: w=2.000, loss = 0.00000000\n",
      "Prediction after training: f(5)= 10.000\n"
     ]
    }
   ],
   "source": [
    "#replaced loss function as well as feedback mechanism\n",
    "import torch.nn as nn\n",
    "X = torch.tensor([1,2,3,4],dtype = torch.float32)\n",
    "Y = torch.tensor([2,4,6,8],dtype = torch.float32)\n",
    "w = torch.tensor(0.0,dtype = torch.float32,requires_grad=True)\n",
    "learning_rate =0.01\n",
    "n_iters = 100\n",
    "def forward(x):\n",
    "    return w*x\n",
    "loss = nn.MSELoss()\n",
    "optimizer = torch.optim.SGD([w], lr = learning_rate)\n",
    "for epoch in range(n_iters):\n",
    "    y_pred = forward(X)\n",
    "    l = loss(Y,y_pred)\n",
    "    l.backward()\n",
    "    optimizer.step()\n",
    "    optimizer.zero_grad()\n",
    "    if epoch%10==0:\n",
    "        print(f'epoch {epoch+1}: w={w:.3f}, loss = {l:.8f}')\n",
    "print(f'Prediction after training: f(5)= {forward(5):.3f}')"
   ]
  },
  {
   "cell_type": "code",
   "execution_count": 53,
   "metadata": {},
   "outputs": [
    {
     "name": "stdout",
     "output_type": "stream",
     "text": [
      "4\n",
      "1\n",
      "epoch 1: w=0.140, loss = 39.18728638\n",
      "epoch 11: w=1.578, loss = 1.04459238\n",
      "epoch 21: w=1.813, loss = 0.05596154\n",
      "epoch 31: w=1.854, loss = 0.02869916\n",
      "epoch 41: w=1.864, loss = 0.02640766\n",
      "epoch 51: w=1.869, loss = 0.02485452\n",
      "epoch 61: w=1.873, loss = 0.02340745\n",
      "epoch 71: w=1.877, loss = 0.02204502\n",
      "epoch 81: w=1.880, loss = 0.02076187\n",
      "epoch 91: w=1.884, loss = 0.01955342\n",
      "Prediction after training: f(5)= 9.767\n"
     ]
    }
   ],
   "source": [
    "#model replacement here\n",
    "X = torch.tensor([[1],[2],[3],[4]],dtype = torch.float32) #shape changed\n",
    "Y = torch.tensor([[2],[4],[6],[8]],dtype = torch.float32) #shape changed\n",
    "w = torch.tensor(0.0,dtype = torch.float32,requires_grad=True)\n",
    "X_test = torch.tensor([5],dtype=torch.float32)\n",
    "n_samples, n_features = X.shape\n",
    "print(n_samples)\n",
    "print(n_features)\n",
    "input_size = n_features\n",
    "output_size = n_features\n",
    "learning_rate =0.01\n",
    "n_iters = 100\n",
    "model = nn.Linear(input_size, output_size)\n",
    "loss = nn.MSELoss()\n",
    "optimizer = torch.optim.SGD(model.parameters(), lr = learning_rate)\n",
    "for epoch in range(n_iters):\n",
    "    y_pred = model(X)\n",
    "    l = loss(Y,y_pred)\n",
    "    l.backward()\n",
    "    optimizer.step()\n",
    "    optimizer.zero_grad()\n",
    "    if epoch%10==0:\n",
    "        [w,b] = model.parameters()\n",
    "        print(f'epoch {epoch+1}: w={w[0][0].item():.3f}, loss = {l:.8f}')\n",
    "print(f'Prediction after training: f(5)= {model(X_test).item():.3f}')"
   ]
  },
  {
   "cell_type": "code",
   "execution_count": 63,
   "metadata": {},
   "outputs": [],
   "source": [
    "#custom model\n",
    "class LinearRegression(nn.Module):\n",
    "    def __init__(self,input_dim,output_dim):\n",
    "        super(LinearRegression,self).__init__()\n",
    "        self.lin = nn.Linear(input_dim,output_dim)\n",
    "    def forward(self,x):\n",
    "        return self.lin(x)\n",
    "model = LinearRegression(input_size,output_size)"
   ]
  },
  {
   "cell_type": "code",
   "execution_count": 64,
   "metadata": {},
   "outputs": [
    {
     "name": "stdout",
     "output_type": "stream",
     "text": [
      "4\n",
      "1\n",
      "epoch 1: w=-0.248, loss = 47.00327301\n",
      "epoch 11: w=1.329, loss = 1.40984654\n",
      "epoch 21: w=1.592, loss = 0.21895760\n",
      "epoch 31: w=1.643, loss = 0.17752513\n",
      "epoch 41: w=1.660, loss = 0.16645005\n",
      "epoch 51: w=1.671, loss = 0.15674257\n",
      "epoch 61: w=1.681, loss = 0.14761885\n",
      "epoch 71: w=1.691, loss = 0.13902660\n",
      "epoch 81: w=1.700, loss = 0.13093449\n",
      "epoch 91: w=1.709, loss = 0.12331349\n",
      "Prediction after training: f(5)= 9.416\n"
     ]
    }
   ],
   "source": [
    "#model replacement here\n",
    "X = torch.tensor([[1],[2],[3],[4]],dtype = torch.float32) #shape changed\n",
    "Y = torch.tensor([[2],[4],[6],[8]],dtype = torch.float32) #shape changed\n",
    "w = torch.tensor(0.0,dtype = torch.float32,requires_grad=True)\n",
    "X_test = torch.tensor([5],dtype=torch.float32)\n",
    "n_samples, n_features = X.shape\n",
    "print(n_samples)\n",
    "print(n_features)\n",
    "input_size = n_features\n",
    "output_size = n_features\n",
    "learning_rate =0.01\n",
    "n_iters = 100\n",
    "loss = nn.MSELoss()\n",
    "optimizer = torch.optim.SGD(model.parameters(), lr = learning_rate)\n",
    "for epoch in range(n_iters):\n",
    "    y_pred = model(X)\n",
    "    l = loss(Y,y_pred)\n",
    "    l.backward()\n",
    "    optimizer.step()\n",
    "    optimizer.zero_grad()\n",
    "    if epoch%10==0:\n",
    "        [w,b] = model.parameters()\n",
    "        print(f'epoch {epoch+1}: w={w[0][0].item():.3f}, loss = {l:.8f}')\n",
    "print(f'Prediction after training: f(5)= {model(X_test).item():.3f}')"
   ]
  },
  {
   "cell_type": "code",
   "execution_count": null,
   "metadata": {},
   "outputs": [],
   "source": []
  }
 ],
 "metadata": {
  "kernelspec": {
   "display_name": "Python 3",
   "language": "python",
   "name": "python3"
  },
  "language_info": {
   "codemirror_mode": {
    "name": "ipython",
    "version": 3
   },
   "file_extension": ".py",
   "mimetype": "text/x-python",
   "name": "python",
   "nbconvert_exporter": "python",
   "pygments_lexer": "ipython3",
   "version": "3.7.6"
  }
 },
 "nbformat": 4,
 "nbformat_minor": 4
}
