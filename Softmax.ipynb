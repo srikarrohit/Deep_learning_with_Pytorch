{
 "cells": [
  {
   "cell_type": "code",
   "execution_count": 2,
   "metadata": {},
   "outputs": [],
   "source": [
    "#softmax = exponential(output)/sum(exponentals(outputs))\n",
    "#squashes the output between 0 and 1"
   ]
  },
  {
   "cell_type": "code",
   "execution_count": 3,
   "metadata": {},
   "outputs": [
    {
     "name": "stdout",
     "output_type": "stream",
     "text": [
      "softmax numpy:  [0.65900114 0.24243297 0.09856589]\n"
     ]
    }
   ],
   "source": [
    "import torch\n",
    "import torch.nn as nn\n",
    "import numpy as np\n",
    "\n",
    "def softmax(x):\n",
    "    return np.exp(x)/np.sum(np.exp(x),axis=0)\n",
    "\n",
    "x = np.array([2.0,1.0,0.1])\n",
    "outputs = softmax(x)\n",
    "print('softmax numpy: ',outputs)"
   ]
  },
  {
   "cell_type": "code",
   "execution_count": 5,
   "metadata": {},
   "outputs": [
    {
     "name": "stdout",
     "output_type": "stream",
     "text": [
      "tensor([0.6590, 0.2424, 0.0986])\n"
     ]
    }
   ],
   "source": [
    "x = torch.tensor([2.0,1.0,0.1])\n",
    "output = torch.softmax(x,dim=0)#dim=0, computes along the first axis\n",
    "print(output)"
   ]
  },
  {
   "cell_type": "code",
   "execution_count": 6,
   "metadata": {},
   "outputs": [],
   "source": [
    "#lot of times softmax is combined with cross entropy loss\n",
    "#cross entropy used in multi class problems\n",
    "#loss increases as the predicted probability diverges from the actual label\n",
    "#better our prediction, lower our loss\n",
    "#bad prediction-high entropy loss"
   ]
  },
  {
   "cell_type": "code",
   "execution_count": 7,
   "metadata": {},
   "outputs": [],
   "source": [
    "#cross entropy = -mean(sum(output*log(pred_output)))"
   ]
  },
  {
   "cell_type": "code",
   "execution_count": 8,
   "metadata": {},
   "outputs": [],
   "source": [
    "def cross_entropy(actual,predicted):\n",
    "    return -np.sum(actual*np.log(predicted))#we normalise later"
   ]
  },
  {
   "cell_type": "code",
   "execution_count": 9,
   "metadata": {},
   "outputs": [
    {
     "name": "stdout",
     "output_type": "stream",
     "text": [
      "Loss1 numpy: 0.3567\n",
      "Loss2 numpy: 2.3026\n"
     ]
    }
   ],
   "source": [
    "Y = np.array([1,0,0]) #must be one hot encoded\n",
    "Y_pred_good = np.array([0.7,0.1,0.2])\n",
    "Y_pred_bad = np.array([0.1,0.1,0.6])\n",
    "l1 = cross_entropy(Y,Y_pred_good)\n",
    "l2 = cross_entropy(Y,Y_pred_bad)\n",
    "print(f'Loss1 numpy: {l1:.4f}')\n",
    "print(f'Loss2 numpy: {l2:.4f}')"
   ]
  },
  {
   "cell_type": "code",
   "execution_count": 10,
   "metadata": {},
   "outputs": [],
   "source": [
    "loss = nn.CrossEntropyLoss()\n",
    "#nnCrossEntropyLoss applies nn.LogSoftmax + nn.NLLLoss(negative log likelihood loss)\n",
    "#no softmax in last layer! must not implement the softmax layer for ourselves\n",
    "#Y has class labels, not One-hot\n",
    "#Y_pred has raw scores (logits), no softmax"
   ]
  },
  {
   "cell_type": "code",
   "execution_count": 11,
   "metadata": {},
   "outputs": [
    {
     "name": "stdout",
     "output_type": "stream",
     "text": [
      "0.4170299470424652\n",
      "1.840616226196289\n"
     ]
    }
   ],
   "source": [
    "Y = torch.tensor([0])\n",
    "#n_samples x nClasses = 1x3\n",
    "Y_pred_good = torch.tensor([[2.0,1.0,0.1]])\n",
    "Y_pred_bad = torch.tensor([[0.5,2.0,0.3]])\n",
    "l1 = loss(Y_pred_good,Y)\n",
    "l2 = loss(Y_pred_bad,Y)\n",
    "print(l1.item())\n",
    "print(l2.item())"
   ]
  },
  {
   "cell_type": "code",
   "execution_count": 12,
   "metadata": {},
   "outputs": [],
   "source": [
    "_, predictions1 = torch.max(Y_pred_good,1)\n",
    "_, predictions2 = torch.max(Y_pred_bad,1)"
   ]
  },
  {
   "cell_type": "code",
   "execution_count": 13,
   "metadata": {},
   "outputs": [
    {
     "name": "stdout",
     "output_type": "stream",
     "text": [
      "tensor([0])\n",
      "tensor([1])\n"
     ]
    }
   ],
   "source": [
    "print(predictions1)\n",
    "print(predictions2)"
   ]
  },
  {
   "cell_type": "code",
   "execution_count": 14,
   "metadata": {},
   "outputs": [],
   "source": [
    "#3 samples\n",
    "#n_samples x nClasses = 3x3\n",
    "Y = torch.tensor([2,0,1])\n",
    "Y_pred_good = torch.tensor([[0.1,1.0,2.1],[2.1,1.0,0.1],[0.1,3.0,0.1]])\n",
    "Y_pred_bad = torch.tensor([[2.1,1.0,0.1],[0.1,1.0,2.1],[0.1,3.0,0.1]])"
   ]
  },
  {
   "cell_type": "code",
   "execution_count": 15,
   "metadata": {},
   "outputs": [
    {
     "name": "stdout",
     "output_type": "stream",
     "text": [
      "0.29082828760147095\n",
      "1.6241613626480103\n"
     ]
    }
   ],
   "source": [
    "l1 = loss(Y_pred_good,Y)\n",
    "l2 = loss(Y_pred_bad,Y)\n",
    "print(l1.item()) #loss is less and good\n",
    "print(l2.item()) #high loss"
   ]
  },
  {
   "cell_type": "code",
   "execution_count": 16,
   "metadata": {},
   "outputs": [],
   "source": [
    "#Neural network with Softmax\n",
    "#Multiclass classification problem\n",
    "#input layer -> hidden layer(activation functions in between) -> linear layer(with one output for each class) ->\n",
    "#softmax and get the probabilities"
   ]
  },
  {
   "cell_type": "code",
   "execution_count": 17,
   "metadata": {},
   "outputs": [],
   "source": [
    "class NeuralNet2(nn.Module):\n",
    "    \n",
    "    def __init__(self,input_size,hidden_size,num_classes):\n",
    "        super(NeuralNet2,self).__init__()\n",
    "        self.linear1 = nn.Linear(input_size,hidden_size)\n",
    "        self.relu = nn.ReLU()#activation function\n",
    "        self.linear2 = nn.Linear(input_size,hidden_size)\n",
    "        \n",
    "    def forward(self,x):\n",
    "        out = self.linear1(x)\n",
    "        out = self.relu(out)\n",
    "        out = self.linear2(out)\n",
    "        return out\n",
    "    \n",
    "model = NeuralNet2(input_size=28*28,hidden_size = 5, num_classes = 3)\n",
    "criterion = nn.CrossEntropyLoss() #applies Softmax"
   ]
  },
  {
   "cell_type": "code",
   "execution_count": 19,
   "metadata": {},
   "outputs": [],
   "source": [
    "#if binary classification - we use sigmoid and apply Binary classification loss\n",
    "class NeuralNet1(self,x):\n",
    "    def __init__(self,input_size,hidden_size):\n",
    "        super(NeuralNet1,self).__init__()\n",
    "        self.linear1 = nn.Linear(input_size, hidden_size)\n",
    "        self.relu = nn.ReLU()\n",
    "        self.linear2 = nn.Linear(hidden_size,1)\n",
    "    \n",
    "    def forward(self,x):\n",
    "        out = self.linear1(x)\n",
    "        out = self.relu(out)\n",
    "        out = self.linear2(out)\n",
    "        y_pred = torch.sigmoid(out)\n",
    "        return y_pred\n",
    "model = NeuralNet1(input_size=28*28,hidden_size=5)\n",
    "criterion = nn.BCELoss()"
   ]
  }
 ],
 "metadata": {
  "kernelspec": {
   "display_name": "Python 3",
   "language": "python",
   "name": "python3"
  },
  "language_info": {
   "codemirror_mode": {
    "name": "ipython",
    "version": 3
   },
   "file_extension": ".py",
   "mimetype": "text/x-python",
   "name": "python",
   "nbconvert_exporter": "python",
   "pygments_lexer": "ipython3",
   "version": "3.7.6"
  }
 },
 "nbformat": 4,
 "nbformat_minor": 4
}
